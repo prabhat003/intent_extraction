{
 "cells": [
  {
   "cell_type": "code",
   "execution_count": 1,
   "metadata": {},
   "outputs": [
    {
     "name": "stderr",
     "output_type": "stream",
     "text": [
      "/Users/prabhatkumarprabhakar/Desktop/WK/qparserenv/lib/python3.8/site-packages/pydantic/_internal/_config.py:341: UserWarning: Valid config keys have changed in V2:\n",
      "* 'allow_population_by_field_name' has been renamed to 'populate_by_name'\n",
      "* 'smart_union' has been removed\n",
      "  warnings.warn(message, UserWarning)\n"
     ]
    }
   ],
   "source": [
    "import cohere as co"
   ]
  },
  {
   "cell_type": "code",
   "execution_count": 10,
   "metadata": {},
   "outputs": [
    {
     "name": "stdout",
     "output_type": "stream",
     "text": [
      "id='21d4dc6d-05b4-409a-b22a-87a4270541c1' prompt='Please explain to me how LLMs work' generations=[SingleGeneration(id='a27e1479-c360-4cd6-963f-d9a51bd9a8e3', text=\" LLMs, or Large Language Models, are a type of neural network that have been trained on massive amounts of text data and have learned to predict the next word in a sequence based on the words that came before it. They do this by dividing the input into tokens, sequences of tokens, and even subword units of tokens, and mapping these to vectors of real numbers. These numerical representations are how the models interpret both the content and structure of the data they work with, and how they make predictions based on the data they've been trained on.\\n\\nThe architecture of LLMs can be broadly divided into three types of layers: the embedding layer, the transformer layer, and the prediction layer. The embedding layer maps the tokens in the input to numerical representations. The transformer layer performs a self-attention process that allows the model to compare and combine the representations of the different tokens in the input to create a new representation. The prediction layer takes the output from the transformer layer and produces the final output, which could be a vector of probabilities indicating the likelihood of different words following the input. \\n\\nLLMs excel at generating text, summarizing texts, and answering questions based on the patterns they've learned from the vast amounts of text they've been trained on. They're an impressive feat of modern AI, but base their insights and outputs around patterns in the text they've seen, so may not consider new ideas or contexts that aren't in their training data. \", index=None, likelihood=None, token_likelihoods=None, finish_reason='COMPLETE')] meta=ApiMeta(api_version=ApiMetaApiVersion(version='1', is_deprecated=None, is_experimental=None), billed_units=ApiMetaBilledUnits(input_tokens=8.0, output_tokens=295.0, search_units=None, classifications=None), tokens=None, warnings=None)\n"
     ]
    }
   ],
   "source": [
    "import cohere\n",
    "\n",
    "co = cohere.Client(\"RLOS0pAqQ6GTeiTYmf2EV3JyVoauxFB3jyUW6GYC\")\n",
    "\n",
    "response = co.generate(\n",
    "    model = \"command\",\n",
    "    prompt=\"Please explain to me how LLMs work\",\n",
    ")\n",
    "print(response)\n"
   ]
  },
  {
   "cell_type": "code",
   "execution_count": null,
   "metadata": {},
   "outputs": [],
   "source": [
    "co.chat_stream()"
   ]
  },
  {
   "cell_type": "code",
   "execution_count": 77,
   "metadata": {},
   "outputs": [],
   "source": [
    "question =\"What cardiovascular adverse reactions are commonly seen with the use of amiodarone?\"\n",
    "question =\"How commonly are PVCs seen on a routine ECG\"\n",
    "question =\"Which beta blockers should I use in a patient with heart failure and bad LV function?\"\n",
    "question =\"How many drops of ofloxacin are needed for otitis externa?\"\n",
    "question =\"How does clozapine cause agranulocytosis??\""
   ]
  },
  {
   "cell_type": "code",
   "execution_count": 83,
   "metadata": {},
   "outputs": [],
   "source": [
    "def get_prompt(question):\n",
    "        prompt = f\"\"\"\n",
    "        You are a highly specialized language model trained to assist healthcare professionals by providing detailed and structured responses to clinical inquiries. When given a question related to the pharmaceutical industry, medicines, diseases, symptoms, side effects, or any clinical topic, your task is to analyze the question and extract specific information according to the following categories:\n",
    "\n",
    "        ##Intent: WHat is the intent of the question, focussed on a drug or disease or a test etc.\n",
    "\n",
    "        ##Drug:\n",
    "        -Drugname: Identify the name of the drug mentioned in the query.\n",
    "        -Dosage: Specify the recommended dosage of the drug if mentioned.\n",
    "        -Composition: List the active ingredients or composition of the drug.\n",
    "        -Side effects: Identify any potential side effects associated with the drug.\n",
    "        -Warnings: Extract any warnings or contraindications related to the drug.\n",
    "        -Primary usage: State the primary condition or disease the drug is used to treat.\n",
    "\n",
    "        ##Disease:\n",
    "        -Origin of disease: Determine the cause or origin of the disease if available.\n",
    "        -Disease definition: Provide a brief definition or description of the disease.\n",
    "        --Symptoms: List the symptoms associated with the disease.\n",
    "        --Treatments: Mention the common or recommended treatments for the disease.\n",
    "\n",
    "        ##Test:\n",
    "        -Test definition: Define the medical test mentioned in the query.\n",
    "        -Organ involved: Identify the organ or system involved in the test.\n",
    "        -Invasive or not: Specify whether the test is invasive or non-invasive.\n",
    "        -Purpose: Explain the purpose of the test and what it aims to diagnose or evaluate.\n",
    "\n",
    "        ##Note:\n",
    "        -When answering, make sure to categorize the information clearly under each heading. \n",
    "        -If any category is not relevant to the question, simply omit that section in your response. \n",
    "        -Ensure that the extracted information is accurate, relevant, and concise.\n",
    "        -Do not ask any trailing questions. \n",
    "        -Strictly give the output in a proper JSON format only\n",
    "        -Limit any examples of side effects, Symptoms to maximum 5 \n",
    "\n",
    "        ##Example Question:\n",
    "        Question: What is the dose of levofloxacin for pneumonia?\n",
    "        Answer:\n",
    "        intent: dosage\n",
    "                drug name: levofloxacin\n",
    "                dosage: 500 mg PO/IV once daily for 7-14 days\n",
    "                composition: Each 100 ml vial (5 mg/ml solution) contains 500 mg of levofloxacin as levofloxacin hemihydrate.\n",
    "                Side effects:   Agitation.\n",
    "                                blisters.\n",
    "                                confusion.\n",
    "                                diarrhea (watery and severe) which may also be bloody.\n",
    "                                feeling that others can hear your thoughts or control your behavior.\n",
    "                                pain, inflammation, or swelling in the calves of the legs, shoulders, or hands.\n",
    "                                redness and swelling of the skin.\n",
    "                warnings: may cause serious and possibly permanent tendon damage (such as tendonitis, tendon rupture),\n",
    "                primary usage: to treat bacterial infections in many different parts of the body\n",
    "\n",
    "        disease: pneumonia\n",
    "                Origin of disease: Pneumonia is most commonly caused by bacteria or viruses, but it can also be caused by fungi\n",
    "                Disease definition: Pneumonia is a serious lung infection that causes the air sacs in one or both lungs to fill with fluid or pus\n",
    "                Symptoms: Coughing with phlegm or pus, Fever, Chills, and Difficulty breathing.\n",
    "                Treatments: Pneumonia treatment depends on the type of pneumonia, its severity, and the germ causing it:\n",
    "                                Antibiotics: For bacterial pneumonia, antibiotics can help you feel better in 1–3 days. Amoxicillin is a common first-line antibiotic. \n",
    "                                Antiviral medicines: For viral pneumonia, antiviral medicines may be prescribed, but they don't work for every virus. Most viral pneumonias get better on their own. \n",
    "                                Antifungal medicines: For fungal pneumonia, antifungal medicines are used to treat some types.\n",
    "\n",
    "\n",
    "        ##Do the same for the below question###\n",
    "        {question}\n",
    "\n",
    "        ##Answer\n",
    "\n",
    "        \"\"\"\n",
    "        return prompt"
   ]
  },
  {
   "cell_type": "code",
   "execution_count": null,
   "metadata": {},
   "outputs": [],
   "source": [
    "import tiktoken\n",
    "\n",
    "class TokenCounter:\n",
    "    def __init__(self, model_name: str = \"gpt-3.5-turbo\"):\n",
    "        try:\n",
    "            self.encoding = tiktoken.encoding_for_model(model_name)\n",
    "        except Exception as e:\n",
    "            raise ValueError(f\"Error in model encoding: {e}\")\n",
    "    \n",
    "    def count_tokens(self, text: str) -> int:\n",
    "        try:\n",
    "            tokens = self.encoding.encode(text)\n",
    "            return len(tokens)\n",
    "        except Exception as e:\n",
    "            raise ValueError(f\"Error in counting tokens: {e}\")\n",
    "    \n",
    "    def calculate_token_counts(self, input_text: str, output_text: str) -> dict:\n",
    "        try:\n",
    "            input_tokens = self.count_tokens(input_text)\n",
    "            output_tokens = self.count_tokens(output_text)\n",
    "            total_tokens = input_tokens + output_tokens\n",
    "            \n",
    "            return {\n",
    "                \"input_tokens\": input_tokens,\n",
    "                \"output_tokens\": output_tokens,\n",
    "                \"total_tokens\": total_tokens\n",
    "            }\n",
    "        except Exception as e:\n",
    "            raise ValueError(f\"Error in calculating token counts: {e}\")\n",
    "\n",
    "# Example usage:\n",
    "if __name__ == \"__main__\":\n",
    "    question =\"What cardiovascular adverse reactions are commonly seen with the use of amiodarone?\"\n",
    "\n",
    "    input_text = get_prompt(question)\n",
    "    response = co.generate(\n",
    "    model = \"command\",\n",
    "    prompt=input_text,\n",
    "    seed=32\n",
    ")\n",
    "    output_text = response.generations[0].text\n",
    "\n",
    "    try:\n",
    "        token_counter = TokenCounter()\n",
    "        token_counts = token_counter.calculate_token_counts(input_text, output_text)\n",
    "        print(token_counts)\n",
    "    except ValueError as e:\n",
    "        print(f\"An error occurred: {e}\")\n"
   ]
  },
  {
   "cell_type": "code",
   "execution_count": 84,
   "metadata": {},
   "outputs": [],
   "source": [
    "import cohere\n",
    "\n",
    "co = cohere.Client(\"RLOS0pAqQ6GTeiTYmf2EV3JyVoauxFB3jyUW6GYC\")\n"
   ]
  },
  {
   "cell_type": "code",
   "execution_count": 85,
   "metadata": {},
   "outputs": [
    {
     "name": "stdout",
     "output_type": "stream",
     "text": [
      "{\n",
      "    \"intent\": \"side effects\",\n",
      "    \"drug name\": \"amiodarone\",\n",
      "    \"dosage\": \"200-800 mg per day in divided doses\",\n",
      "    \"composition\": \"Amiodarone is composed of iodine, with iodine content ranging from 47.8% to 50.5%\",\n",
      "    \"side effects\": [\n",
      "        \"Cardiovascular: Acute hypotension, hypertension, peripheral edema, QT prolongation, supraventricular arrhythmias, atrial fibrillation, bradycardia, and sinus node dysfunction.\",\n",
      "        \"Gastrointestinal: Nausea, vomiting, anorexia, and constipation.\",\n",
      "        \"General disorders: Weakness, fatigue, anxiety, and dizziness.\",\n",
      "        \"Hematologic: Aggravation of anemia.\",\n",
      "        \"Metabolic: Weight gain and dyslipidemia.\",\n",
      "        \"Skin: Photosensitivity and rash.\"\n",
      "    ],\n",
      "    \"warnings\": \"Contraindicated in patients with sinus node dysfunction, bradycardia, and pulmonary fibrosis.\",\n",
      "    \"primary usage\": \"Treatment of life-threatening ventricular arrhythmias and prevention of recurrence\"\n",
      "}\n"
     ]
    }
   ],
   "source": [
    "question =\"What cardiovascular adverse reactions are commonly seen with the use of amiodarone?\"\n",
    "prompt = get_prompt(question)\n",
    "response = co.generate(\n",
    "    model = \"command\",\n",
    "    prompt=prompt,\n",
    "    seed=32\n",
    ")\n",
    "print(response.generations[0].text)"
   ]
  },
  {
   "cell_type": "code",
   "execution_count": 86,
   "metadata": {},
   "outputs": [
    {
     "name": "stdout",
     "output_type": "stream",
     "text": [
      "{\n",
      "    \"intent\": \"Test\",\n",
      "    \"Test\": {\n",
      "        \"Test definition\": \"PVCs are characterized by the presence of ectopic heartbeats, which are cardiac cycles that deviate from the normal progression of activation throughout the heart and initiate an independent beat.\",\n",
      "        \"Organ involved\": \"Heart\",\n",
      "        \"Invasive or not\": \"Non-invasive\",\n",
      "        \"Purpose\": \"Assessing heart health and identifying arrhythmias.\"\n",
      "    }\n",
      "}\n"
     ]
    }
   ],
   "source": [
    "question =\"How commonly are PVCs seen on a routine ECG\"\n",
    "prompt = get_prompt(question)\n",
    "response = co.generate(\n",
    "    model = \"command\",\n",
    "    prompt=prompt,\n",
    "    seed=32\n",
    "\n",
    ")\n",
    "print(response.generations[0].text)"
   ]
  },
  {
   "cell_type": "code",
   "execution_count": 87,
   "metadata": {},
   "outputs": [
    {
     "name": "stdout",
     "output_type": "stream",
     "text": [
      "```json\n",
      "{\n",
      "    \"intent\": \"drug\",\n",
      "    \"drugname\": \"Beta blockers\",\n",
      "    \"dosage\": \"Dose depends on the beta blocker being used, as well as the patient's age, weight, and condition being treated.\",\n",
      "    \"composition\": \"Each beta blocker has unique active ingredients.\",\n",
      "    \"side_effects\": \"Examples include: Fatigue, Slow heart rate, Sick feeling, Weakness, Cold hands and feet, Depression, Confusion, Impaired memory, Sleep disturbances.\",\n",
      "    \"warnings\": \"Monitor blood pressure and heart function regularly. Avoid in patients with asthma, severe bradycardia, sick sinus syndrome, or severe peripheral vascular disease.\",\n",
      "    \"primary_usage\": \"Treatment of cardiovascular diseases, including high blood pressure, myocardial infarction, and cardiac arrhythmia.\"\n",
      "}\n",
      "```\n"
     ]
    }
   ],
   "source": [
    "question =\"Which beta blockers should I use in a patient with heart failure and bad LV function?\"\n",
    "prompt = get_prompt(question)\n",
    "response = co.generate(\n",
    "    model = \"command\",\n",
    "    prompt=prompt,\n",
    "    seed=32\n",
    "\n",
    ")\n",
    "print(response.generations[0].text)\n"
   ]
  },
  {
   "cell_type": "code",
   "execution_count": 88,
   "metadata": {},
   "outputs": [
    {
     "name": "stdout",
     "output_type": "stream",
     "text": [
      "```json\n",
      "{\n",
      "    \"intent\": \"dosage\",\n",
      "    \"drugname\": \"ofloxacin\",\n",
      "    \"dosage\": \"300 drops (0.2 ounces or 5.4 milliliters) for adult and 600 drops for paediatrics aged 1 month to 12 years\",\n",
      "    \"composition\": \"Ofloxacin Oxetanone HCl, Microdacyn, and BenzoateBenzalkonium Chloride\",\n",
      "    \"side_effects\": [\n",
      "        \"Viral infections\",\n",
      "        \"Nausea\",\n",
      "        \"Diarrhoea\"\n",
      "    ],\n",
      "    \"warnings\": \"Do not use if the eardrum is damaged or if you have a hole in the eardrum (perforated eardrum).\",\n",
      "    \"primary_usage\": \"Ofloxacin is used to treat outer ear infections (external ear infections) in adults and children aged 1 month and older.\"\n",
      "}\n",
      "```\n"
     ]
    }
   ],
   "source": [
    "question =\"How many drops of ofloxacin are needed for otitis externa?\"\n",
    "prompt = get_prompt(question)\n",
    "response = co.generate(\n",
    "    model = \"command\",\n",
    "    prompt=prompt,\n",
    "    seed=32\n",
    "\n",
    ")\n",
    "print(response.generations[0].text)"
   ]
  },
  {
   "cell_type": "code",
   "execution_count": 89,
   "metadata": {},
   "outputs": [
    {
     "name": "stdout",
     "output_type": "stream",
     "text": [
      "{\n",
      "    \"intent\": \"Drug\",\n",
      "    \"drugname\": \"clozapine\",\n",
      "    \"dosage\": \"250 mg or 300 mg daily in divided doses.\",\n",
      "    \"composition\": \"Clozapine is an atypical antipsychotic. Its chemical name is 8-chloro-11-(4-methyl-1-piperazinyl)-5H-dibenzo[b,e][1,4]diazepine.\",\n",
      "    \"side_effects\": [\"Agitation\", \"blisters\", \"confusion\", \"diarrhea\", \"incoherent speech\"],\n",
      "    \"warnings\": \"May cause serious and possibly permanent tendon damage (such as tendonitis, tendon rupture).\",\n",
      "    \"primary_usage\": \"Agranulocytosis is considered a rare side effect of clozapine, which is primarily used to treat schizophrenia.\"\n",
      "}\n"
     ]
    }
   ],
   "source": [
    "question =\"How does clozapine cause agranulocytosis?\"\n",
    "prompt = get_prompt(question)\n",
    "response = co.generate(\n",
    "    model = \"command\",\n",
    "    prompt=prompt,\n",
    "    seed=32\n",
    "\n",
    ")\n",
    "print(response.generations[0].text)"
   ]
  },
  {
   "cell_type": "code",
   "execution_count": null,
   "metadata": {},
   "outputs": [],
   "source": []
  }
 ],
 "metadata": {
  "kernelspec": {
   "display_name": "qparserenv",
   "language": "python",
   "name": "python3"
  },
  "language_info": {
   "codemirror_mode": {
    "name": "ipython",
    "version": 3
   },
   "file_extension": ".py",
   "mimetype": "text/x-python",
   "name": "python",
   "nbconvert_exporter": "python",
   "pygments_lexer": "ipython3",
   "version": "3.8.8"
  }
 },
 "nbformat": 4,
 "nbformat_minor": 2
}
